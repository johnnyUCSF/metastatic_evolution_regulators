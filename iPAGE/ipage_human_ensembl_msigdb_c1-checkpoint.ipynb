{
 "cells": [
  {
   "cell_type": "markdown",
   "metadata": {},
   "source": [
    "# This is used for running data vs human_msigdb_c1 annotations located in: \n",
    "### /nvme/bins/iPAGEv1.0/PAGE_DATA/ANNOTATIONS/human_ensembl_msigdb_c1"
   ]
  },
  {
   "cell_type": "code",
   "execution_count": 1,
   "metadata": {},
   "outputs": [],
   "source": [
    "import os\n",
    "import pandas as pd\n",
    "import numpy as np\n",
    "import matplotlib.pyplot as plt\n",
    "import pickle\n",
    "import seaborn as sns\n",
    "import scipy.stats\n"
   ]
  },
  {
   "cell_type": "markdown",
   "metadata": {},
   "source": [
    "### get index of file names to loop through "
   ]
  },
  {
   "cell_type": "code",
   "execution_count": 2,
   "metadata": {},
   "outputs": [],
   "source": [
    "%%bash\n",
    "\n",
    "cd fc_values\n",
    "ls FC* > filelist.txt\n",
    "cd .."
   ]
  },
  {
   "cell_type": "markdown",
   "metadata": {},
   "source": [
    "### get ensembl genes represented in iPAGE database"
   ]
  },
  {
   "cell_type": "code",
   "execution_count": 3,
   "metadata": {},
   "outputs": [],
   "source": [
    "%%bash \n",
    "\n",
    "cp /nvme/bins/iPAGEv1.0/PAGE_DATA/ANNOTATIONS/human_ensembl_msigdb_c1/human_ensembl_msigdb_c1_index.txt human_ensembl_index.txt\n",
    "awk '{print $1}' human_ensembl_index.txt > ensembl_index.txt"
   ]
  },
  {
   "cell_type": "markdown",
   "metadata": {},
   "source": [
    "### make sure that genes in file match the index "
   ]
  },
  {
   "cell_type": "code",
   "execution_count": 4,
   "metadata": {},
   "outputs": [],
   "source": [
    "###################!!!!!!!!!!!!!!!!!!!!!!!!!!!!!!!!!!!!!!\n",
    "###################REMEMBER TO SPECIFY INDEX USED IN THE IPAGE COMMAND!!!!!!!!\n",
    "###################!!!!!!!!!!!!!!!!!!!!!!!!!!!!!!!!!!!!!!\n",
    "\n",
    "\n",
    "#####################\n",
    "#######read in data from logfc calculations\n",
    "#####################\n",
    "####define index file to loop through\n",
    "index_file = \"fc_values/filelist.txt\"\n",
    "####define matching ensg index\n",
    "GO_index_filename = \"ensembl_index.txt\"\n",
    "genes_with_GOs = []\n",
    "with open(GO_index_filename,'r') as rf:\n",
    "    for line in rf:\n",
    "        gene_name = line.split('\\n')[0]\n",
    "        genes_with_GOs.append(gene_name)\n",
    "genes_with_GOs_set = set(genes_with_GOs)\n",
    "####open file and loop through each line\n",
    "###\n",
    "iPAGE_sh = \"iPAGE_JY.sh\"\n",
    "cwd = os.getcwd()+\"/\"\n",
    "os.system(\"rm \"+iPAGE_sh)\n",
    "###\n",
    "with open(index_file,'r') as rf:\n",
    "    for line in rf:\n",
    "        #####do this to each file\n",
    "        ###read in file into pandas df\n",
    "        FC_file = \"fc_values/\"+line.split('\\n')[0]\n",
    "        FC_df = pd.read_csv(FC_file,sep=',',index_col=0)\n",
    "        FC_df.columns = ['log2FoldChange']\n",
    "        FC_df.index.names = ['Gene']\n",
    "        ###filter\n",
    "        FC_df = FC_df.loc[[x for x in FC_df.index if x in genes_with_GOs_set]]\n",
    "        ###save\n",
    "        save_file = \"fc_values/filt_\"+line.split('\\n')[0]\n",
    "        FC_df.to_csv(save_file,sep='\\t',header=True)\n",
    "        ###write final iPAGE command to an ipage .sh file\n",
    "        iPAGE_cmd = \"perl /nvme/bins/iPAGEv1.0/page.pl --expfile \"+cwd+save_file+\" --species=human_ensembl --exptype=continuous --ebins=15 \\n\"\n",
    "        with open(iPAGE_sh, \"a\") as myfile:\n",
    "            myfile.write(iPAGE_cmd)\n"
   ]
  },
  {
   "cell_type": "markdown",
   "metadata": {},
   "source": [
    "## then run the command from this folder:\n",
    "\n",
    "nohup sh run.sh iPAGE_JY.sh &"
   ]
  },
  {
   "cell_type": "code",
   "execution_count": null,
   "metadata": {},
   "outputs": [],
   "source": []
  }
 ],
 "metadata": {
  "kernelspec": {
   "display_name": "Python 2",
   "language": "python",
   "name": "python2"
  },
  "language_info": {
   "codemirror_mode": {
    "name": "ipython",
    "version": 2
   },
   "file_extension": ".py",
   "mimetype": "text/x-python",
   "name": "python",
   "nbconvert_exporter": "python",
   "pygments_lexer": "ipython2",
   "version": "2.7.11"
  }
 },
 "nbformat": 4,
 "nbformat_minor": 2
}
